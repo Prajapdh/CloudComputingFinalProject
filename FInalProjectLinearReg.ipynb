{
  "cells": [
    {
      "cell_type": "markdown",
      "metadata": {
        "colab_type": "text",
        "id": "view-in-github"
      },
      "source": [
        "<a href=\"https://colab.research.google.com/github/aryanarke2003/data-analysis/blob/main/LinearRegression.ipynb\" target=\"_parent\"><img src=\"https://colab.research.google.com/assets/colab-badge.svg\" alt=\"Open In Colab\"/></a>"
      ]
    },
    {
      "cell_type": "markdown",
      "metadata": {},
      "source": [
        "## 2. Setup and Data Loading"
      ]
    },
    {
      "cell_type": "code",
      "execution_count": 12,
      "metadata": {},
      "outputs": [
        {
          "name": "stdout",
          "output_type": "stream",
          "text": [
            "Requirement already satisfied: pandas in c:\\users\\daksh\\onedrive - university of cincinnati\\7th sem spring 2025\\cloud computing\\project 7\\lib\\site-packages (2.2.3)\n",
            "Requirement already satisfied: numpy in c:\\users\\daksh\\onedrive - university of cincinnati\\7th sem spring 2025\\cloud computing\\project 7\\lib\\site-packages (2.2.5)\n",
            "Requirement already satisfied: matplotlib in c:\\users\\daksh\\onedrive - university of cincinnati\\7th sem spring 2025\\cloud computing\\project 7\\lib\\site-packages (3.10.1)\n",
            "Requirement already satisfied: seaborn in c:\\users\\daksh\\onedrive - university of cincinnati\\7th sem spring 2025\\cloud computing\\project 7\\lib\\site-packages (0.13.2)\n",
            "Requirement already satisfied: scikit-learn in c:\\users\\daksh\\onedrive - university of cincinnati\\7th sem spring 2025\\cloud computing\\project 7\\lib\\site-packages (1.6.1)\n",
            "Requirement already satisfied: python-dateutil>=2.8.2 in c:\\users\\daksh\\onedrive - university of cincinnati\\7th sem spring 2025\\cloud computing\\project 7\\lib\\site-packages (from pandas) (2.9.0.post0)\n",
            "Requirement already satisfied: pytz>=2020.1 in c:\\users\\daksh\\onedrive - university of cincinnati\\7th sem spring 2025\\cloud computing\\project 7\\lib\\site-packages (from pandas) (2025.2)\n",
            "Requirement already satisfied: tzdata>=2022.7 in c:\\users\\daksh\\onedrive - university of cincinnati\\7th sem spring 2025\\cloud computing\\project 7\\lib\\site-packages (from pandas) (2025.2)\n",
            "Requirement already satisfied: contourpy>=1.0.1 in c:\\users\\daksh\\onedrive - university of cincinnati\\7th sem spring 2025\\cloud computing\\project 7\\lib\\site-packages (from matplotlib) (1.3.2)\n",
            "Requirement already satisfied: cycler>=0.10 in c:\\users\\daksh\\onedrive - university of cincinnati\\7th sem spring 2025\\cloud computing\\project 7\\lib\\site-packages (from matplotlib) (0.12.1)\n",
            "Requirement already satisfied: fonttools>=4.22.0 in c:\\users\\daksh\\onedrive - university of cincinnati\\7th sem spring 2025\\cloud computing\\project 7\\lib\\site-packages (from matplotlib) (4.57.0)\n",
            "Requirement already satisfied: kiwisolver>=1.3.1 in c:\\users\\daksh\\onedrive - university of cincinnati\\7th sem spring 2025\\cloud computing\\project 7\\lib\\site-packages (from matplotlib) (1.4.8)\n",
            "Requirement already satisfied: packaging>=20.0 in c:\\users\\daksh\\onedrive - university of cincinnati\\7th sem spring 2025\\cloud computing\\project 7\\lib\\site-packages (from matplotlib) (25.0)\n",
            "Requirement already satisfied: pillow>=8 in c:\\users\\daksh\\onedrive - university of cincinnati\\7th sem spring 2025\\cloud computing\\project 7\\lib\\site-packages (from matplotlib) (11.2.1)\n",
            "Requirement already satisfied: pyparsing>=2.3.1 in c:\\users\\daksh\\onedrive - university of cincinnati\\7th sem spring 2025\\cloud computing\\project 7\\lib\\site-packages (from matplotlib) (3.2.3)\n",
            "Requirement already satisfied: scipy>=1.6.0 in c:\\users\\daksh\\onedrive - university of cincinnati\\7th sem spring 2025\\cloud computing\\project 7\\lib\\site-packages (from scikit-learn) (1.15.2)\n",
            "Requirement already satisfied: joblib>=1.2.0 in c:\\users\\daksh\\onedrive - university of cincinnati\\7th sem spring 2025\\cloud computing\\project 7\\lib\\site-packages (from scikit-learn) (1.4.2)\n",
            "Requirement already satisfied: threadpoolctl>=3.1.0 in c:\\users\\daksh\\onedrive - university of cincinnati\\7th sem spring 2025\\cloud computing\\project 7\\lib\\site-packages (from scikit-learn) (3.6.0)\n",
            "Requirement already satisfied: six>=1.5 in c:\\users\\daksh\\onedrive - university of cincinnati\\7th sem spring 2025\\cloud computing\\project 7\\lib\\site-packages (from python-dateutil>=2.8.2->pandas) (1.17.0)\n",
            "Note: you may need to restart the kernel to use updated packages.\n"
          ]
        },
        {
          "name": "stderr",
          "output_type": "stream",
          "text": [
            "\n",
            "[notice] A new release of pip is available: 23.3.2 -> 25.0.1\n",
            "[notice] To update, run: python.exe -m pip install --upgrade pip\n"
          ]
        }
      ],
      "source": [
        "# Install required packages\n",
        "%pip install pandas numpy matplotlib seaborn scikit-learn"
      ]
    },
    {
      "cell_type": "code",
      "execution_count": 23,
      "metadata": {
        "id": "uc0b34fG7qkC"
      },
      "outputs": [],
      "source": [
        "import pandas as pd\n",
        "from sklearn.model_selection import train_test_split\n",
        "from sklearn.linear_model import LinearRegression\n",
        "from sklearn.metrics import mean_squared_error, r2_score\n",
        "from sklearn.preprocessing import OneHotEncoder\n",
        "from sklearn.compose import ColumnTransformer\n",
        "from sklearn.pipeline import Pipeline\n",
        "import numpy as np"
      ]
    },
    {
      "cell_type": "code",
      "execution_count": 24,
      "metadata": {
        "id": "YtzCgZAX97_C"
      },
      "outputs": [],
      "source": [
        "# Paths to sample CSVs (ensure your working directory contains these files)\n",
        "data_dir = './8451_The_Complete_Journey_2_Sample-2-1/8451_The_Complete_Journey_2_Sample-2'  # adjust if needed\n",
        "households = pd.read_csv(f\"{data_dir}/400_households.csv\")\n",
        "products = pd.read_csv(f\"{data_dir}/400_products.csv\")\n",
        "transactions = pd.read_csv(f\"{data_dir}/400_transactions.csv\")"
      ]
    },
    {
      "cell_type": "code",
      "execution_count": 25,
      "metadata": {},
      "outputs": [
        {
          "name": "stdout",
          "output_type": "stream",
          "text": [
            "Households: (400, 9)\n",
            "Products: (67284, 5)\n",
            "Transactions: (922008, 9)\n"
          ]
        }
      ],
      "source": [
        "# Quick look\n",
        "print(\"Households:\", households.shape)\n",
        "print(\"Products:\", products.shape)\n",
        "print(\"Transactions:\", transactions.shape)"
      ]
    },
    {
      "cell_type": "code",
      "execution_count": 26,
      "metadata": {
        "id": "YlZ5kLdj-Ec4"
      },
      "outputs": [],
      "source": [
        "# Preprocessing and cleaning data\n",
        "# Replace NaN values in CHILDREN with 0\n",
        "households['CHILDREN'] = households['CHILDREN'].fillna(0)\n",
        "# Convert '3+' in CHILDREN to 3 or a higher value if desired\n",
        "households['CHILDREN'] = households['CHILDREN'].replace('3+', 3)  # You can replace 3 with a higher number if needed\n",
        "households['CHILDREN'] = households['CHILDREN'].astype(int)\n",
        "\n",
        "# Remove extra spaces from column names\n",
        "households.columns = households.columns.str.strip()\n",
        "products.columns = products.columns.str.strip()\n",
        "transactions.columns = transactions.columns.str.strip()\n",
        "\n",
        "# One-hot encoding for categorical variables\n",
        "categorical_features = ['AGE_RANGE', 'MARITAL', 'INCOME_RANGE', 'HOMEOWNER', 'HH_SIZE', 'HSHD_COMPOSITION']\n",
        "one_hot = OneHotEncoder()\n",
        "transformer = ColumnTransformer([(\"one_hot\", one_hot, categorical_features)],\n",
        "                                remainder=\"passthrough\")\n",
        "\n"
      ]
    },
    {
      "cell_type": "markdown",
      "metadata": {},
      "source": [
        "## 3. Sample Data Pull for Household #10"
      ]
    },
    {
      "cell_type": "code",
      "execution_count": 27,
      "metadata": {
        "colab": {
          "base_uri": "https://localhost:8080/"
        },
        "id": "YIsJkYzof41c",
        "outputId": "8f5fb2ca-2075-4c70-c0ad-75051e411db3"
      },
      "outputs": [
        {
          "name": "stderr",
          "output_type": "stream",
          "text": [
            "C:\\Users\\daksh\\AppData\\Local\\Temp\\ipykernel_40884\\1325626060.py:12: FutureWarning: A value is trying to be set on a copy of a DataFrame or Series through chained assignment using an inplace method.\n",
            "The behavior will change in pandas 3.0. This inplace method will never work because the intermediate object on which we are setting values always behaves as a copy.\n",
            "\n",
            "For example, when doing 'df[col].method(value, inplace=True)', try using 'df.method({col: value}, inplace=True)' or df[col] = df[col].method(value) instead, to perform the operation inplace on the original object.\n",
            "\n",
            "\n",
            "  households['COUNT'].fillna(0, inplace=True)\n"
          ]
        }
      ],
      "source": [
        "# Fit the transformer object\n",
        "transformer.fit(households[categorical_features])\n",
        "transformed_X = transformer.fit_transform(households[categorical_features])\n",
        "\n",
        "# Merging the data\n",
        "# Assuming that customer engagement can be represented by the number of transactions\n",
        "transactions['COUNT'] = 1\n",
        "# Aggregate transaction counts by 'HSHD_NUM'\n",
        "transaction_counts = transactions.groupby('HSHD_NUM').size().reset_index(name='COUNT')\n",
        "# Merge the data\n",
        "households = households.merge(transaction_counts, on='HSHD_NUM', how='left')\n",
        "households['COUNT'].fillna(0, inplace=True)"
      ]
    },
    {
      "cell_type": "code",
      "execution_count": 28,
      "metadata": {},
      "outputs": [
        {
          "name": "stdout",
          "output_type": "stream",
          "text": [
            "Feature coefficients:\n",
            "AGE_RANGE_19-24                                                                                                                                                                                                   : 868.5227399139634\n",
            "AGE_RANGE_25-34                                                                                                                                                                                                   : 72.92123798954893\n",
            "AGE_RANGE_35-44                                                                                                                                                                                                   : 277.5807816979537\n",
            "AGE_RANGE_45-54                                                                                                                                                                                                   : -308.2025381496485\n",
            "AGE_RANGE_55-64                                                                                                                                                                                                   : -288.06948751442604\n",
            "AGE_RANGE_65-74                                                                                                                                                                                                   : -464.91762438520055\n",
            "AGE_RANGE_75+                                                                                                                                                                                                     : -625.8380829066479\n",
            "AGE_RANGE_null                                                                                                                                                                                                    : 468.0029733544519\n",
            "MARITAL_Married: 974.840236988245\n",
            "MARITAL_Single : -1416.0877692309136\n",
            "MARITAL_null   : 441.2475322426562\n",
            "INCOME_RANGE_100-150K                                                                                                                                                                                                : -496.2779363548988\n",
            "INCOME_RANGE_150K+                                                                                                                                                                                                   : -25.134057376396125\n",
            "INCOME_RANGE_35-49K                                                                                                                                                                                                  : 296.16359954967123\n",
            "INCOME_RANGE_50-74K                                                                                                                                                                                                  : 166.27536095520077\n",
            "INCOME_RANGE_75-99K                                                                                                                                                                                                  : -69.46635105916377\n",
            "INCOME_RANGE_UNDER 35K                                                                                                                                                                                               : 537.3294373444392\n",
            "INCOME_RANGE_null                                                                                                                                                                                                    : -408.89005305885195\n",
            "HOMEOWNER_Homeowner: 418.10823677684357\n",
            "HOMEOWNER_Renter   : -248.8084196965133\n",
            "HOMEOWNER_null     : -169.29981708036868\n",
            "HH_SIZE_1                                                                                                                                                                                                       : 567.2122975474316\n",
            "HH_SIZE_2                                                                                                                                                                                                       : -698.2107457287095\n",
            "HH_SIZE_3                                                                                                                                                                                                       : -334.0757963487592\n",
            "HH_SIZE_4                                                                                                                                                                                                       : 290.0781348255053\n",
            "HH_SIZE_5+                                                                                                                                                                                                      : 389.7602809859634\n",
            "HH_SIZE_null                                                                                                                                                                                                    : -214.76417128143706\n",
            "HSHD_COMPOSITION_1 Adult          : -438.47382680124997\n",
            "HSHD_COMPOSITION_1 Adult and Kids : 1877.649291844491\n",
            "HSHD_COMPOSITION_2 Adults         : -909.4330993624475\n",
            "HSHD_COMPOSITION_2 Adults and Kids: -1126.538436970588\n",
            "HSHD_COMPOSITION_Single Female    : 396.3645424548243\n",
            "HSHD_COMPOSITION_Single Male      : 609.3215818938877\n",
            "HSHD_COMPOSITION_null             : -408.89005305885195\n",
            "R2 score: -0.13319501438693138\n",
            "Mean Squared Error: 2851707.6681250352\n"
          ]
        }
      ],
      "source": [
        "# Preparing the data for the regression model\n",
        "X = transformed_X\n",
        "y = households['COUNT']\n",
        "\n",
        "# Splitting the data into train and test sets\n",
        "X_train, X_test, y_train, y_test = train_test_split(X, y, test_size=0.2, random_state=42)\n",
        "\n",
        "# Building the linear regression model\n",
        "model = LinearRegression()\n",
        "model.fit(X_train, y_train)\n",
        "\n",
        "# Predicting and evaluating the model\n",
        "y_pred = model.predict(X_test)\n",
        "\n",
        "# Fit the OneHotEncoder object\n",
        "one_hot.fit(households[categorical_features])\n",
        "\n",
        "# Output the coefficients to understand impact\n",
        "feature_names = one_hot.get_feature_names_out(categorical_features)\n",
        "print(\"Feature coefficients:\")\n",
        "for feature, coef in zip(feature_names, model.coef_):\n",
        "    print(f\"{feature}: {coef}\")\n",
        "\n",
        "# Calculate R2 and MSE\n",
        "r2 = r2_score(y_test, y_pred)\n",
        "mse = mean_squared_error(y_test, y_pred)\n",
        "print(f\"R2 score: {r2}\")\n",
        "print(f\"Mean Squared Error: {mse}\")"
      ]
    },
    {
      "cell_type": "markdown",
      "metadata": {},
      "source": [
        "## 4. Exploratory Analysis"
      ]
    },
    {
      "cell_type": "code",
      "execution_count": 29,
      "metadata": {
        "colab": {
          "base_uri": "https://localhost:8080/",
          "height": 564
        },
        "id": "nNhQBBd3k__i",
        "outputId": "560a7de8-39d0-4849-fcee-4da5340edf24"
      },
      "outputs": [
        {
          "data": {
            "image/png": "[encoded data removed]",
            "text/plain": [
              "<Figure size 1000x600 with 1 Axes>"
            ]
          },
          "metadata": {},
          "output_type": "display_data"
        }
      ],
      "source": [
        "# Predictions on the test set\n",
        "y_pred = model.predict(X_test)\n",
        "\n",
        "# Plot the linear regression graph\n",
        "plt.figure(figsize=(10, 6))\n",
        "plt.scatter(y_test, y_pred, color='blue', label='Actual vs. Predicted')\n",
        "plt.plot([y_test.min(), y_test.max()], [y_test.min(), y_test.max()], color='red', linestyle='--', lw=2, label='Perfect Prediction')\n",
        "plt.title('Linear Regression: Actual vs. Predicted')\n",
        "plt.xlabel('Actual Count')\n",
        "plt.ylabel('Predicted Count')\n",
        "plt.legend()\n",
        "plt.grid(True)\n",
        "plt.show()\n"
      ]
    },
    {
      "cell_type": "code",
      "execution_count": 30,
      "metadata": {
        "colab": {
          "base_uri": "https://localhost:8080/"
        },
        "id": "guuQhm7csII4",
        "outputId": "d680b19a-c04f-4281-a1aa-4b782d411eb8"
      },
      "outputs": [
        {
          "name": "stdout",
          "output_type": "stream",
          "text": [
            "Top features affecting customer engagement:\n",
            "HSHD_COMPOSITION_1 Adult and Kids : 1877.649291844491\n",
            "MARITAL_Single : -1416.0877692309136\n"
          ]
        }
      ],
      "source": [
        "# Extract feature coefficients\n",
        "feature_coefficients = dict(zip(feature_names, model.coef_))\n",
        "\n",
        "# Sort feature coefficients by absolute magnitude\n",
        "sorted_coefficients = sorted(feature_coefficients.items(), key=lambda x: abs(x[1]), reverse=True)\n",
        "\n",
        "# Print top features by absolute coefficient value\n",
        "print(\"Top features affecting customer engagement:\")\n",
        "for feature, coef in sorted_coefficients[:2]:  # Extract the top two features\n",
        "    print(f\"{feature}: {coef}\")\n"
      ]
    },
    {
      "cell_type": "code",
      "execution_count": 31,
      "metadata": {
        "colab": {
          "base_uri": "https://localhost:8080/"
        },
        "id": "GzfFgfm1vPtG",
        "outputId": "2ea8a3fa-b561-43c4-cd22-5c355bb1686c"
      },
      "outputs": [
        {
          "name": "stdout",
          "output_type": "stream",
          "text": [
            "Categories with positive coefficients (indicating growth in customer engagement):\n",
            "HSHD: 9.371043623624636e-12\n",
            "INCOME: 7.308439567818174e-14\n",
            "AGE: -6.252776074688882e-13\n",
            "HH: -9.142316533446622e-13\n",
            "MARITAL: -4.149569576838985e-12\n",
            "\n",
            "Categories with negative coefficients (indicating shrinkage in customer engagement):\n",
            "INCOME: 7.308439567818174e-14\n",
            "AGE: -6.252776074688882e-13\n",
            "HH: -9.142316533446622e-13\n",
            "MARITAL: -4.149569576838985e-12\n",
            "HOMEOWNER: -1.280871704996874e-11\n"
          ]
        }
      ],
      "source": [
        "# Create a dictionary to store coefficients for each category\n",
        "category_coefficients = {}\n",
        "\n",
        "# Iterate through the coefficients and categorize them\n",
        "for feature, coef in zip(feature_names, model.coef_):\n",
        "    category = feature.split(\"_\", 1)[0]  # Extract category name from feature name\n",
        "    if category not in category_coefficients:\n",
        "        category_coefficients[category] = []\n",
        "    category_coefficients[category].append(coef)\n",
        "\n",
        "# Calculate the average coefficient for each category\n",
        "average_category_coefficients = {category: np.mean(coefs) for category, coefs in category_coefficients.items()}\n",
        "\n",
        "# Sort categories by average coefficient\n",
        "sorted_categories = sorted(average_category_coefficients.items(), key=lambda x: x[1], reverse=True)\n",
        "\n",
        "# Print the categories with positive and negative coefficients\n",
        "print(\"Categories with positive coefficients (indicating growth in customer engagement):\")\n",
        "for category, coef in sorted_categories[:5]:  # Assuming you want to see the top 5 growing categories\n",
        "    print(f\"{category}: {coef}\")\n",
        "\n",
        "print(\"\\nCategories with negative coefficients (indicating shrinkage in customer engagement):\")\n",
        "for category, coef in sorted_categories[-5:]:  # Assuming you want to see the top 5 shrinking categories\n",
        "    print(f\"{category}: {coef}\")\n"
      ]
    }
  ],
  "metadata": {
    "accelerator": "GPU",
    "colab": {
      "authorship_tag": "ABX9TyN0KWBhI7yzeyYeuFk2UvkU",
      "gpuType": "V100",
      "include_colab_link": true,
      "provenance": [],
      "toc_visible": true
    },
    "kernelspec": {
      "display_name": "Project 7",
      "language": "python",
      "name": "python3"
    },
    "language_info": {
      "codemirror_mode": {
        "name": "ipython",
        "version": 3
      },
      "file_extension": ".py",
      "mimetype": "text/x-python",
      "name": "python",
      "nbconvert_exporter": "python",
      "pygments_lexer": "ipython3",
      "version": "3.12.6"
    }
  },
  "nbformat": 4,
  "nbformat_minor": 0
}
